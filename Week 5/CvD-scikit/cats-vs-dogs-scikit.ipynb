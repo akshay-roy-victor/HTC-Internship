{
 "cells": [
  {
   "attachments": {},
   "cell_type": "markdown",
   "metadata": {},
   "source": [
    "# SETUP\n",
    "\n",
    "## These are the libraries required for training a scikit learning model to differentiate an image of a cat or dog. \n",
    "1. os is used for basic file handling/editing.\n",
    "2. pickle is used for handling data stream into the scikit learn model, and is then used to save the model into a exportable file.\n",
    "3. Many functions/libraries from skimage were imported to read and resize images to prepare the dataset for training the model.\n",
    "4. sklearn library was the main library used to import the training model to be used.\n",
    "5. numpy, pandas, and matplotlib libraries were used to evaluate the models' performance and plot them on a readable graph."
   ]
  },
  {
   "cell_type": "code",
   "execution_count": 36,
   "metadata": {},
   "outputs": [],
   "source": [
    "import os\n",
    "import pickle\n",
    "\n",
    "from skimage.io import imread\n",
    "from skimage.transform import resize\n",
    "from sklearn.model_selection import train_test_split\n",
    "from sklearn.model_selection import GridSearchCV\n",
    "from sklearn.svm import SVC\n",
    "from sklearn.metrics import accuracy_score, log_loss\n",
    "\n",
    "import matplotlib.pyplot as plt\n",
    "import numpy as np\n",
    "import pandas as pd"
   ]
  },
  {
   "attachments": {},
   "cell_type": "markdown",
   "metadata": {},
   "source": [
    "# PREPARE DATA\n",
    "\n",
    "In this section the raw images and cleaned and sorted into an array alongside their labels. This is part of data cleaning/preprocessing."
   ]
  },
  {
   "cell_type": "code",
   "execution_count": 2,
   "metadata": {},
   "outputs": [],
   "source": [
    "input_dir = './data/'\n",
    "categories = ['cats', 'dogs']\n",
    "\n",
    "data = []\n",
    "labels = []\n",
    "for category_idx, category in enumerate(categories):\n",
    "    for file in os.listdir(os.path.join(input_dir, category)):\n",
    "        img_path = os.path.join(input_dir, category, file)\n",
    "        img = imread(img_path)\n",
    "        img = resize(img, (15, 15))\n",
    "        data.append(img.flatten())\n",
    "        labels.append(category_idx)\n",
    "\n",
    "data = np.asarray(data)\n",
    "labels = np.asarray(labels)"
   ]
  },
  {
   "attachments": {},
   "cell_type": "markdown",
   "metadata": {},
   "source": [
    "# train / test split\n",
    "\n",
    "In this section the data prepared above is split using a function from the sklearn library to split them accordingly to training and testing data. 80% - 20% split respectively."
   ]
  },
  {
   "cell_type": "code",
   "execution_count": 3,
   "metadata": {},
   "outputs": [],
   "source": [
    "x_train, x_test, y_train, y_test = train_test_split(data, labels, test_size=0.2, shuffle=True, stratify=labels)"
   ]
  },
  {
   "attachments": {},
   "cell_type": "markdown",
   "metadata": {},
   "source": [
    "# train classifier\n",
    "\n",
    "In this section the model is trained and its parameters are fine tuned to best suit the situation."
   ]
  },
  {
   "cell_type": "code",
   "execution_count": 10,
   "metadata": {},
   "outputs": [
    {
     "data": {
      "text/html": [
       "<style>#sk-container-id-2 {color: black;background-color: white;}#sk-container-id-2 pre{padding: 0;}#sk-container-id-2 div.sk-toggleable {background-color: white;}#sk-container-id-2 label.sk-toggleable__label {cursor: pointer;display: block;width: 100%;margin-bottom: 0;padding: 0.3em;box-sizing: border-box;text-align: center;}#sk-container-id-2 label.sk-toggleable__label-arrow:before {content: \"▸\";float: left;margin-right: 0.25em;color: #696969;}#sk-container-id-2 label.sk-toggleable__label-arrow:hover:before {color: black;}#sk-container-id-2 div.sk-estimator:hover label.sk-toggleable__label-arrow:before {color: black;}#sk-container-id-2 div.sk-toggleable__content {max-height: 0;max-width: 0;overflow: hidden;text-align: left;background-color: #f0f8ff;}#sk-container-id-2 div.sk-toggleable__content pre {margin: 0.2em;color: black;border-radius: 0.25em;background-color: #f0f8ff;}#sk-container-id-2 input.sk-toggleable__control:checked~div.sk-toggleable__content {max-height: 200px;max-width: 100%;overflow: auto;}#sk-container-id-2 input.sk-toggleable__control:checked~label.sk-toggleable__label-arrow:before {content: \"▾\";}#sk-container-id-2 div.sk-estimator input.sk-toggleable__control:checked~label.sk-toggleable__label {background-color: #d4ebff;}#sk-container-id-2 div.sk-label input.sk-toggleable__control:checked~label.sk-toggleable__label {background-color: #d4ebff;}#sk-container-id-2 input.sk-hidden--visually {border: 0;clip: rect(1px 1px 1px 1px);clip: rect(1px, 1px, 1px, 1px);height: 1px;margin: -1px;overflow: hidden;padding: 0;position: absolute;width: 1px;}#sk-container-id-2 div.sk-estimator {font-family: monospace;background-color: #f0f8ff;border: 1px dotted black;border-radius: 0.25em;box-sizing: border-box;margin-bottom: 0.5em;}#sk-container-id-2 div.sk-estimator:hover {background-color: #d4ebff;}#sk-container-id-2 div.sk-parallel-item::after {content: \"\";width: 100%;border-bottom: 1px solid gray;flex-grow: 1;}#sk-container-id-2 div.sk-label:hover label.sk-toggleable__label {background-color: #d4ebff;}#sk-container-id-2 div.sk-serial::before {content: \"\";position: absolute;border-left: 1px solid gray;box-sizing: border-box;top: 0;bottom: 0;left: 50%;z-index: 0;}#sk-container-id-2 div.sk-serial {display: flex;flex-direction: column;align-items: center;background-color: white;padding-right: 0.2em;padding-left: 0.2em;position: relative;}#sk-container-id-2 div.sk-item {position: relative;z-index: 1;}#sk-container-id-2 div.sk-parallel {display: flex;align-items: stretch;justify-content: center;background-color: white;position: relative;}#sk-container-id-2 div.sk-item::before, #sk-container-id-2 div.sk-parallel-item::before {content: \"\";position: absolute;border-left: 1px solid gray;box-sizing: border-box;top: 0;bottom: 0;left: 50%;z-index: -1;}#sk-container-id-2 div.sk-parallel-item {display: flex;flex-direction: column;z-index: 1;position: relative;background-color: white;}#sk-container-id-2 div.sk-parallel-item:first-child::after {align-self: flex-end;width: 50%;}#sk-container-id-2 div.sk-parallel-item:last-child::after {align-self: flex-start;width: 50%;}#sk-container-id-2 div.sk-parallel-item:only-child::after {width: 0;}#sk-container-id-2 div.sk-dashed-wrapped {border: 1px dashed gray;margin: 0 0.4em 0.5em 0.4em;box-sizing: border-box;padding-bottom: 0.4em;background-color: white;}#sk-container-id-2 div.sk-label label {font-family: monospace;font-weight: bold;display: inline-block;line-height: 1.2em;}#sk-container-id-2 div.sk-label-container {text-align: center;}#sk-container-id-2 div.sk-container {/* jupyter's `normalize.less` sets `[hidden] { display: none; }` but bootstrap.min.css set `[hidden] { display: none !important; }` so we also need the `!important` here to be able to override the default hidden behavior on the sphinx rendered scikit-learn.org. See: https://github.com/scikit-learn/scikit-learn/issues/21755 */display: inline-block !important;position: relative;}#sk-container-id-2 div.sk-text-repr-fallback {display: none;}</style><div id=\"sk-container-id-2\" class=\"sk-top-container\"><div class=\"sk-text-repr-fallback\"><pre>GridSearchCV(estimator=SVC(),\n",
       "             param_grid=[{&#x27;C&#x27;: [1, 10, 100, 1000],\n",
       "                          &#x27;gamma&#x27;: [0.01, 0.001, 0.0001]}])</pre><b>In a Jupyter environment, please rerun this cell to show the HTML representation or trust the notebook. <br />On GitHub, the HTML representation is unable to render, please try loading this page with nbviewer.org.</b></div><div class=\"sk-container\" hidden><div class=\"sk-item sk-dashed-wrapped\"><div class=\"sk-label-container\"><div class=\"sk-label sk-toggleable\"><input class=\"sk-toggleable__control sk-hidden--visually\" id=\"sk-estimator-id-4\" type=\"checkbox\" ><label for=\"sk-estimator-id-4\" class=\"sk-toggleable__label sk-toggleable__label-arrow\">GridSearchCV</label><div class=\"sk-toggleable__content\"><pre>GridSearchCV(estimator=SVC(),\n",
       "             param_grid=[{&#x27;C&#x27;: [1, 10, 100, 1000],\n",
       "                          &#x27;gamma&#x27;: [0.01, 0.001, 0.0001]}])</pre></div></div></div><div class=\"sk-parallel\"><div class=\"sk-parallel-item\"><div class=\"sk-item\"><div class=\"sk-label-container\"><div class=\"sk-label sk-toggleable\"><input class=\"sk-toggleable__control sk-hidden--visually\" id=\"sk-estimator-id-5\" type=\"checkbox\" ><label for=\"sk-estimator-id-5\" class=\"sk-toggleable__label sk-toggleable__label-arrow\">estimator: SVC</label><div class=\"sk-toggleable__content\"><pre>SVC()</pre></div></div></div><div class=\"sk-serial\"><div class=\"sk-item\"><div class=\"sk-estimator sk-toggleable\"><input class=\"sk-toggleable__control sk-hidden--visually\" id=\"sk-estimator-id-6\" type=\"checkbox\" ><label for=\"sk-estimator-id-6\" class=\"sk-toggleable__label sk-toggleable__label-arrow\">SVC</label><div class=\"sk-toggleable__content\"><pre>SVC()</pre></div></div></div></div></div></div></div></div></div></div>"
      ],
      "text/plain": [
       "GridSearchCV(estimator=SVC(),\n",
       "             param_grid=[{'C': [1, 10, 100, 1000],\n",
       "                          'gamma': [0.01, 0.001, 0.0001]}])"
      ]
     },
     "execution_count": 10,
     "metadata": {},
     "output_type": "execute_result"
    }
   ],
   "source": [
    "classifier = SVC()\n",
    "\n",
    "parameters = [{'gamma': [0.01, 0.001, 0.0001], 'C': [1, 10, 100, 1000]}]\n",
    "\n",
    "grid_search = GridSearchCV(classifier, parameters)\n",
    "\n",
    "grid_search.fit(x_train, y_train)"
   ]
  },
  {
   "attachments": {},
   "cell_type": "markdown",
   "metadata": {},
   "source": [
    "# test performance\n",
    "\n",
    "In this section the model trained above is used on the test dataset to evaluate its performance."
   ]
  },
  {
   "cell_type": "code",
   "execution_count": 31,
   "metadata": {},
   "outputs": [
    {
     "name": "stdout",
     "output_type": "stream",
     "text": [
      "70.0% of samples were correctly classified\n",
      "10.813096016735146\n"
     ]
    }
   ],
   "source": [
    "best_estimator = grid_search.best_estimator_\n",
    "\n",
    "y_prediction = best_estimator.predict(x_test)\n",
    "\n",
    "score = accuracy_score(y_prediction, y_test)\n",
    "\n",
    "print('{}% of samples were correctly classified'.format(str(score * 100)))\n",
    "\n",
    "pickle.dump(best_estimator, open('./model.p', 'wb'))\n",
    "\n",
    "loss = log_loss(y_test, y_prediction)\n",
    "print (loss)"
   ]
  },
  {
   "cell_type": "markdown",
   "metadata": {},
   "source": [
    "# EVALUATE MODEL Pt.1\n",
    "\n",
    "In this section the model's performance is then evaluated based on different sized datasets, their results are then saved into their respective folders."
   ]
  },
  {
   "cell_type": "code",
   "execution_count": 22,
   "metadata": {},
   "outputs": [],
   "source": [
    "def get_score(dir):\n",
    "    data = []\n",
    "    labels = []\n",
    "    for category_idx, category in enumerate(categories):\n",
    "        for file in os.listdir(os.path.join(dir, category)):\n",
    "            img_path = os.path.join(dir, category, file)\n",
    "            img = imread(img_path)\n",
    "            img = resize(img, (15, 15))\n",
    "            data.append(img.flatten())\n",
    "            labels.append(category_idx)\n",
    "\n",
    "    data = np.asarray(data)\n",
    "    labels = np.asarray(labels)\n",
    "\n",
    "    x_train, x_test, y_train, y_test = train_test_split(data, labels, test_size=0.2, shuffle=True, stratify=labels)\n",
    "\n",
    "    classifier = SVC()\n",
    "\n",
    "    parameters = [{'gamma': [0.01, 0.001, 0.0001], 'C': [1, 10, 100, 1000]}]\n",
    "\n",
    "    grid_search = GridSearchCV(classifier, parameters)\n",
    "\n",
    "    grid_search.fit(x_train, y_train)\n",
    "\n",
    "    best_estimator = grid_search.best_estimator_\n",
    "\n",
    "    y_prediction = best_estimator.predict(x_test)\n",
    "\n",
    "    score = accuracy_score(y_prediction, y_test)\n",
    "\n",
    "    score*=100\n",
    "\n",
    "    return score"
   ]
  },
  {
   "cell_type": "code",
   "execution_count": 32,
   "metadata": {},
   "outputs": [],
   "source": [
    "def get_loss(dir):\n",
    "    data = []\n",
    "    labels = []\n",
    "    for category_idx, category in enumerate(categories):\n",
    "        for file in os.listdir(os.path.join(dir, category)):\n",
    "            img_path = os.path.join(dir, category, file)\n",
    "            img = imread(img_path)\n",
    "            img = resize(img, (15, 15))\n",
    "            data.append(img.flatten())\n",
    "            labels.append(category_idx)\n",
    "\n",
    "    data = np.asarray(data)\n",
    "    labels = np.asarray(labels)\n",
    "\n",
    "    x_train, x_test, y_train, y_test = train_test_split(data, labels, test_size=0.2, shuffle=True, stratify=labels)\n",
    "\n",
    "    classifier = SVC()\n",
    "\n",
    "    parameters = [{'gamma': [0.01, 0.001, 0.0001], 'C': [1, 10, 100, 1000]}]\n",
    "\n",
    "    grid_search = GridSearchCV(classifier, parameters)\n",
    "\n",
    "    grid_search.fit(x_train, y_train)\n",
    "\n",
    "    best_estimator = grid_search.best_estimator_\n",
    "\n",
    "    y_prediction = best_estimator.predict(x_test)\n",
    "\n",
    "    loss = log_loss(y_test, y_prediction)\n",
    "\n",
    "    return loss"
   ]
  },
  {
   "attachments": {},
   "cell_type": "markdown",
   "metadata": {},
   "source": [
    "# EVALUATE MODEL Pt.2\n",
    "\n",
    "In this section, all the results obtained from part 1 is then saved into an array, and then plotted on a readable graph."
   ]
  },
  {
   "cell_type": "code",
   "execution_count": 34,
   "metadata": {},
   "outputs": [
    {
     "name": "stdout",
     "output_type": "stream",
     "text": [
      "[25.0, 47.5, 56.99999999999999, 58.5, 63.74999999999999]\n",
      "[36.04365338911715, 18.021826694558577, 12.615278686191004, 13.876806554810102, 13.606479154391723]\n"
     ]
    }
   ],
   "source": [
    "accuracy_scores = []\n",
    "losses = []\n",
    "sample_size = [10, 100, 250, 500, 1000]\n",
    "\n",
    "accuracy_scores.append(get_score('./data(10)/'))\n",
    "accuracy_scores.append(get_score('./data(100)/'))\n",
    "accuracy_scores.append(get_score('./data(250)/'))\n",
    "accuracy_scores.append(get_score('./data(500)/'))\n",
    "accuracy_scores.append(get_score('./data(1000)/'))\n",
    "\n",
    "losses.append(get_loss('./data(10)/'))\n",
    "losses.append(get_loss('./data(100)/'))\n",
    "losses.append(get_loss('./data(250)/'))\n",
    "losses.append(get_loss('./data(500)/'))\n",
    "losses.append(get_loss('./data(1000)/'))\n",
    "\n",
    "print(accuracy_scores)\n",
    "print(losses)"
   ]
  },
  {
   "cell_type": "code",
   "execution_count": 41,
   "metadata": {},
   "outputs": [
    {
     "data": {
      "image/png": "[encoded data removed]",
      "text/plain": [
       "<Figure size 640x480 with 1 Axes>"
      ]
     },
     "metadata": {},
     "output_type": "display_data"
    }
   ],
   "source": [
    "information = {'Number of image per class': sample_size, 'Training Accuracy': accuracy_scores, 'Training Loss': losses}\n",
    "df = pd.DataFrame(information)\n",
    "df\n",
    "\n",
    "plt.plot(sample_size, accuracy_scores, '-o')\n",
    "plt.xlabel('Number of training samples per class')\n",
    "plt.ylabel('Classification Accuracies (%)')\n",
    "plt.show()"
   ]
  },
  {
   "attachments": {},
   "cell_type": "markdown",
   "metadata": {},
   "source": [
    "TEST ON NEW DATA"
   ]
  },
  {
   "cell_type": "code",
   "execution_count": null,
   "metadata": {},
   "outputs": [
    {
     "data": {
      "text/plain": [
       "array([0, 0, 1, 1, 1, 0, 0])"
      ]
     },
     "execution_count": 7,
     "metadata": {},
     "output_type": "execute_result"
    }
   ],
   "source": [
    "unsorted_path = './data/unsorted/'\n",
    "unsorted = os.listdir(unsorted_path)\n",
    "unsorted_images = []\n",
    "for images in unsorted:\n",
    "    image = imread(os.path.join(unsorted_path, images))\n",
    "    image = resize(image, (15, 15))\n",
    "    image = image.flatten()\n",
    "    unsorted_images.append(image)\n",
    "\n",
    "grid_search.predict(unsorted_images)\n"
   ]
  }
 ],
 "metadata": {
  "kernelspec": {
   "display_name": "Python 3",
   "language": "python",
   "name": "python3"
  },
  "language_info": {
   "codemirror_mode": {
    "name": "ipython",
    "version": 3
   },
   "file_extension": ".py",
   "mimetype": "text/x-python",
   "name": "python",
   "nbconvert_exporter": "python",
   "pygments_lexer": "ipython3",
   "version": "3.8.0"
  },
  "orig_nbformat": 4
 },
 "nbformat": 4,
 "nbformat_minor": 2
}
