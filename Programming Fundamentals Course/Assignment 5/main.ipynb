{
 "cells": [
  {
   "cell_type": "code",
   "execution_count": 2,
   "metadata": {},
   "outputs": [
    {
     "data": {
      "text/plain": [
       "CompletedProcess(args='python counter5.py', returncode=0)"
      ]
     },
     "execution_count": 2,
     "metadata": {},
     "output_type": "execute_result"
    }
   ],
   "source": [
    "import subprocess\n",
    "\n",
    "subprocess.run(\"python counter1.py\", shell=True)\n",
    "subprocess.run(\"python counter2.py\", shell=True)\n",
    "subprocess.run(\"python counter3.py\", shell=True)\n",
    "subprocess.run(\"python counter4.py\", shell=True)\n",
    "subprocess.run(\"python counter5.py\", shell=True)"
   ]
  },
  {
   "cell_type": "code",
   "execution_count": 1,
   "metadata": {},
   "outputs": [],
   "source": [
    "import mysql.connector\n",
    "\n",
    "con = mysql.connector.connect(host='localhost', username='root', password='MirkoIsHot1302!', database='inventory')\n",
    "cursor = con.cursor()\n",
    "\n",
    "restock = \"\"\"\n",
    "UPDATE burger\n",
    "SET stock = 200\n",
    "WHERE id = 1;\n",
    "\"\"\"\n",
    "\n",
    "cursor.execute(restock)\n",
    "con.commit()\n",
    "con.close()"
   ]
  },
  {
   "cell_type": "code",
   "execution_count": 2,
   "metadata": {},
   "outputs": [
    {
     "name": "stdout",
     "output_type": "stream",
     "text": [
      "burgers left:-4\n"
     ]
    }
   ],
   "source": [
    "import mysql.connector\n",
    "\n",
    "con = mysql.connector.connect(host='localhost', username='root', password='MirkoIsHot1302!', database='inventory')\n",
    "cursor = con.cursor()\n",
    "\n",
    "stock = \"\"\"SELECT stock FROM burger\"\"\"\n",
    "cursor.execute(stock)\n",
    "print(\"burgers left:\"+str(cursor.fetchall().pop(0)[0]))\n",
    "\n",
    "con.close()"
   ]
  },
  {
   "cell_type": "code",
   "execution_count": 3,
   "metadata": {},
   "outputs": [
    {
     "name": "stdout",
     "output_type": "stream",
     "text": [
      "Counter 1 sold 1 burgers\n",
      "Counter 2 sold 1 burgers\n",
      "Counter 3 sold 1 burgers\n",
      "Counter 4 sold 1 burgers\n",
      "Counter 5 sold 1 burgers\n",
      "Total Burgers Sold:5\n"
     ]
    }
   ],
   "source": [
    "import counter1, counter2, counter3, counter4, counter5\n",
    "\n",
    "print(\"Counter 1 sold \"+str(counter1.sold)+\" burgers\")\n",
    "print(\"Counter 2 sold \"+str(counter2.sold)+\" burgers\")\n",
    "print(\"Counter 3 sold \"+str(counter3.sold)+\" burgers\")\n",
    "print(\"Counter 4 sold \"+str(counter4.sold)+\" burgers\")\n",
    "print(\"Counter 5 sold \"+str(counter5.sold)+\" burgers\")\n",
    "\n",
    "print(\"Total Burgers Sold:\"+str(counter1.sold+counter2.sold+counter3.sold+counter4.sold+counter5.sold))"
   ]
  }
 ],
 "metadata": {
  "kernelspec": {
   "display_name": "Python 3",
   "language": "python",
   "name": "python3"
  },
  "language_info": {
   "codemirror_mode": {
    "name": "ipython",
    "version": 3
   },
   "file_extension": ".py",
   "mimetype": "text/x-python",
   "name": "python",
   "nbconvert_exporter": "python",
   "pygments_lexer": "ipython3",
   "version": "3.8.0"
  },
  "orig_nbformat": 4
 },
 "nbformat": 4,
 "nbformat_minor": 2
}
