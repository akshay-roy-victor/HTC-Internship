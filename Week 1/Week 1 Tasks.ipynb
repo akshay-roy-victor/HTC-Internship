{
 "cells": [
  {
   "attachments": {},
   "cell_type": "markdown",
   "metadata": {},
   "source": [
    "QUESTION 1\n",
    "\n",
    "The two cells below are codes in python used to arrange the image files provided into a organized manner. Image files will first be separated based on whether the cheque image is showing the front or the rear end. Then for each of the front and the rear images, they will be sorted into subsequent folders based on their format, for example: jpg, tif, bmp, etc. os library is used for file reading/manipulation and shutil library is used for file moving.\n",
    "\n",
    "For the first cell, the code first makes two folders to store front and rear images. If the front and rear folder is already made the code will catch an exception and notify that the folders have already been made.. Then the split function is used from the os library and stores the array in a variable, next a conditional statement is used to check if the array contains 'front' or 'rear' in the name of the file to then sort it to its respective folder. If all the files have already been sorted, the loop ends, the exception is caught, and the code notifies that all the files have been moved.\n",
    "\n",
    "For the second cell, the code is similar to the first cell, however the sorting is made into a function, and that function is used on both the 'front' and 'rear' folders. File names are split and extensions are matched into their respective folders."
   ]
  },
  {
   "cell_type": "code",
   "execution_count": null,
   "metadata": {},
   "outputs": [],
   "source": [
    "import os\n",
    "import shutil\n",
    "\n",
    "path = 'C:\\\\Users\\\\Akshay\\\\Desktop\\\\Work\\\\Week 1\\\\data_sample'\n",
    "\n",
    "list = os.listdir(path)\n",
    "\n",
    "try:\n",
    "    os.mkdir(path+'/'+'front')\n",
    "    os.mkdir(path+'/'+'rear')\n",
    "except:\n",
    "    print (\"File already created\")\n",
    "\n",
    "try:\n",
    "    for file in list:\n",
    "        stuff = (file.split(\".\"))\n",
    "        if \"front\" in stuff:\n",
    "            shutil.move(path+'/'+file, path+'/'+'front'+'/'+file)\n",
    "        elif \"rear\" in stuff:\n",
    "            shutil.move(path+'/'+file, path+'/'+'rear'+'/'+file)\n",
    "except:\n",
    "    print(\"All files moved\")"
   ]
  },
  {
   "cell_type": "code",
   "execution_count": 2,
   "metadata": {},
   "outputs": [],
   "source": [
    "path1 = 'C:\\\\Users\\\\Akshay\\\\Desktop\\\\Work\\\\Week 1\\\\data_sample\\\\front'\n",
    "path2 = 'C:\\\\Users\\\\Akshay\\\\Desktop\\\\Work\\\\Week 1\\\\data_sample\\\\rear'\n",
    "\n",
    "def sortCheque(path):\n",
    "\tlist_ = os.listdir(path)\n",
    "\n",
    "\tfor file_ in list_:\n",
    "\t\tname, ext = os.path.splitext(file_)\n",
    "\n",
    "\t\text = ext[1:]\n",
    "\n",
    "\t\tif ext == '':\n",
    "\t\t\tcontinue\n",
    "\n",
    "\t\tif os.path.exists(path+'/'+ext):\n",
    "\t\t\tshutil.move(path+'/'+file_, path+'/'+ext+'/'+file_)\n",
    "\n",
    "\t\telse:\n",
    "\t\t\tos.makedirs(path+'/'+ext)\n",
    "\t\t\tshutil.move(path+'/'+file_, path+'/'+ext+'/'+file_)\n",
    "\n",
    "sortCheque(path1)\n",
    "sortCheque(path2)\n"
   ]
  },
  {
   "attachments": {},
   "cell_type": "markdown",
   "metadata": {},
   "source": [
    "QUESTION 2\n",
    "\n",
    "This task outputs a csv file called 'Cheques.csv' which contains all the file paths of each image. This is done with the cell below. csv library is used to open, read, and write into a csv file.\n",
    "\n",
    "In the code below, first a 'Cheques.csv' file is made. Then a writer is initialized to be used as a function to write values into the already created csv file. Then a loop is used together with the os.walk function to go through all possible folders and subfolders to access all possible files. Then each of the file paths are written down by the writer initialized into the csv file."
   ]
  },
  {
   "cell_type": "code",
   "execution_count": 3,
   "metadata": {},
   "outputs": [],
   "source": [
    "import csv\n",
    "\n",
    "with open('C:\\\\Users\\\\Akshay\\\\Desktop\\\\Work\\\\Week 1\\\\Cheques.csv', 'w', newline='') as file:\n",
    "    writer = csv.writer(file)\n",
    "    for path, subdirs, files in os.walk(path):\n",
    "        for name in files:\n",
    "            writer.writerow([(os.path.join(path, name))])\n",
    "\n",
    "\n"
   ]
  },
  {
   "attachments": {},
   "cell_type": "markdown",
   "metadata": {},
   "source": [
    "QUESTION 3\n",
    "\n",
    "This purpose of this task was to only experiment with some functions from cv2 on some of the image files. cv2 is a well known library used for image processing, reading, and manipulation. So a random file was used below in the code alongside functions to determine the properties of the image."
   ]
  },
  {
   "cell_type": "code",
   "execution_count": 4,
   "metadata": {},
   "outputs": [
    {
     "name": "stdout",
     "output_type": "stream",
     "text": [
      "(263, 600, 3)\n",
      "473400\n",
      "uint8\n"
     ]
    }
   ],
   "source": [
    "import cv2\n",
    "\n",
    "image = cv2.imread('C:\\\\Users\\\\Akshay\\\\Desktop\\\\Work\\\\Week 1\\\\data_sample\\\\front\\\\bmp\\\\CSD23053114143116.front.dit.bmp')\n",
    "print (image.shape)\n",
    "print (image.size)\n",
    "print (image.dtype)"
   ]
  },
  {
   "attachments": {},
   "cell_type": "markdown",
   "metadata": {},
   "source": [
    "QUESTION 4\n",
    "\n",
    "The purpose of this task was similar to task 3 however another library was used instead of cv2. In this code numpy was used and the images were stored as numpy arrays. The code below goes through every image files instead of just one random image."
   ]
  },
  {
   "cell_type": "code",
   "execution_count": 12,
   "metadata": {},
   "outputs": [
    {
     "name": "stdout",
     "output_type": "stream",
     "text": [
      "<generator object walk at 0x000002E127756580>\n",
      "1161984\n",
      "<generator object walk at 0x000002E127756510>\n",
      "1157760\n",
      "<generator object walk at 0x000002E127756580>\n",
      "1152000\n"
     ]
    }
   ],
   "source": [
    "from PIL import Image\n",
    "import numpy\n",
    "\n",
    "for path, subdirs, files in os.walk(path):\n",
    "    for name in files:\n",
    "        string = (os.path.join(path, name))\n",
    "        img = Image.open(string)\n",
    "        np = numpy.array(img)\n",
    "\n",
    "        print(os.walk(path))\n",
    "        print(np.size)"
   ]
  }
 ],
 "metadata": {
  "kernelspec": {
   "display_name": "Python 3",
   "language": "python",
   "name": "python3"
  },
  "language_info": {
   "codemirror_mode": {
    "name": "ipython",
    "version": 3
   },
   "file_extension": ".py",
   "mimetype": "text/x-python",
   "name": "python",
   "nbconvert_exporter": "python",
   "pygments_lexer": "ipython3",
   "version": "3.8.10"
  },
  "orig_nbformat": 4
 },
 "nbformat": 4,
 "nbformat_minor": 2
}
