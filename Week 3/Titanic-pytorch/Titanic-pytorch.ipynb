{
 "cells": [
  {
   "attachments": {},
   "cell_type": "markdown",
   "metadata": {},
   "source": [
    "SETUP"
   ]
  },
  {
   "cell_type": "code",
   "execution_count": 1,
   "metadata": {},
   "outputs": [
    {
     "data": {
      "text/plain": [
       "Index(['PassengerId', 'Survived', 'Pclass', 'Name', 'Sex', 'Age', 'SibSp',\n",
       "       'Parch', 'Ticket', 'Fare', 'Cabin', 'Embarked'],\n",
       "      dtype='object')"
      ]
     },
     "execution_count": 1,
     "metadata": {},
     "output_type": "execute_result"
    }
   ],
   "source": [
    "import torch\n",
    "import numpy as np\n",
    "import pandas as pd\n",
    "from sklearn.model_selection import train_test_split\n",
    "import os\n",
    "\n",
    "train_path = './train.csv'\n",
    "test_path = './test.csv'\n",
    "\n",
    "titanic_data = pd.read_csv(train_path)\n",
    "test_data = pd.read_csv(test_path)\n",
    "titanic_data.columns"
   ]
  },
  {
   "cell_type": "code",
   "execution_count": 2,
   "metadata": {},
   "outputs": [],
   "source": [
    "train_data_frame = pd.DataFrame(titanic_data)\n",
    "i=0\n",
    "for sex in train_data_frame.Sex:\n",
    "    if sex=='male':\n",
    "        train_data_frame.loc[i, ['Sex']]=[1]\n",
    "        i+=1\n",
    "    elif sex == 'female':\n",
    "        train_data_frame.loc[i, ['Sex']]=[2]\n",
    "        i+=1\n",
    "\n",
    "os.remove(train_path)\n",
    "train_data_frame.to_csv('./train.csv', index=False)\n",
    "titanic_data = titanic_data.dropna(axis=0)\n",
    "\n",
    "test_data_frame = pd.DataFrame(test_data)\n",
    "i=0\n",
    "for sex in test_data_frame.Sex:\n",
    "    if sex=='male':\n",
    "        test_data_frame.loc[i, ['Sex']]=[1]\n",
    "        i+=1\n",
    "    elif sex == 'female':\n",
    "        test_data_frame.loc[i, ['Sex']]=[2]\n",
    "        i+=1\n",
    "\n",
    "\n",
    "os.remove(test_path)\n",
    "test_data_frame.to_csv('./test.csv', index=False)\n",
    "test_data = test_data.dropna(axis=0)"
   ]
  },
  {
   "cell_type": "code",
   "execution_count": 3,
   "metadata": {},
   "outputs": [],
   "source": [
    "features = ['Pclass', 'Sex', 'Age', 'SibSp', 'Parch']\n",
    "\n",
    "test_X = test_data[features]\n",
    "y = titanic_data.Survived\n",
    "X = titanic_data[features]\n",
    "\n",
    "X_train, X_test, y_train, y_test = train_test_split(X, y, test_size=0.2, random_state=42)\n"
   ]
  },
  {
   "cell_type": "code",
   "execution_count": 4,
   "metadata": {},
   "outputs": [],
   "source": [
    "import torch.optim as optim\n",
    "import torch.nn as nn\n",
    "\n",
    "class TitanicModel(nn.Module):\n",
    "    def __init__(self, input_size, hidden_size):\n",
    "        super(TitanicModel, self).__init__()\n",
    "        self.fc1 = nn.Linear(input_size, hidden_size)\n",
    "        self.relu = nn.ReLU()\n",
    "        self.fc2 = nn.Linear(hidden_size, 1)  # Single output neuron for binary classification\n",
    "\n",
    "    def forward(self, x):\n",
    "        out = self.fc1(x)\n",
    "        out = self.relu(out)\n",
    "        out = self.fc2(out)\n",
    "        return out\n",
    "\n",
    "# Initialize the model\n",
    "input_size = len(X.columns)\n",
    "hidden_size = 64\n",
    "model = TitanicModel(input_size, hidden_size)\n"
   ]
  },
  {
   "cell_type": "code",
   "execution_count": 5,
   "metadata": {},
   "outputs": [],
   "source": [
    "criterion = nn.BCEWithLogitsLoss()\n",
    "optimizer = optim.Adam(model.parameters(), lr=0.001)"
   ]
  },
  {
   "cell_type": "code",
   "execution_count": 7,
   "metadata": {},
   "outputs": [],
   "source": [
    "# Convert the data to PyTorch tensors\n",
    "X_train_tensor = torch.tensor(X_train.values, dtype=torch.float32)\n",
    "y_train_tensor = torch.tensor(y_train.values, dtype=torch.float32)\n"
   ]
  },
  {
   "cell_type": "code",
   "execution_count": 8,
   "metadata": {},
   "outputs": [
    {
     "name": "stdout",
     "output_type": "stream",
     "text": [
      "<torch.utils.data.dataloader.DataLoader object at 0x0000026BC1B53750>\n"
     ]
    }
   ],
   "source": [
    "# Create a data loader\n",
    "train_dataset = torch.utils.data.TensorDataset(X_train_tensor, y_train_tensor)\n",
    "train_loader = torch.utils.data.DataLoader(train_dataset, batch_size=32, shuffle=True)\n",
    "\n",
    "print (train_loader)"
   ]
  },
  {
   "cell_type": "code",
   "execution_count": 9,
   "metadata": {},
   "outputs": [],
   "source": [
    "num_epochs = 100\n",
    "batch_size = 32\n",
    "\n",
    "# Training loop\n",
    "total_step = len(train_loader)\n",
    "for epoch in range(num_epochs):\n",
    "    for i, (inputs, labels) in enumerate(train_loader):\n",
    "        # Forward pass\n",
    "        outputs = model(inputs)\n",
    "        \n",
    "        # Reshape the target tensor to match the size of the model's output\n",
    "        labels = labels.view(-1, 1)\n",
    "\n",
    "        loss = criterion(outputs, labels)\n",
    "\n",
    "        # Backward and optimize\n",
    "        optimizer.zero_grad()\n",
    "        loss.backward()\n",
    "        optimizer.step()\n",
    "\n",
    "        if (i+1) % 10 == 0:\n",
    "            print('Epoch [{}/{}], Step [{}/{}], Loss: {:.4f}'\n",
    "                  .format(epoch+1, num_epochs, i+1, total_step, loss.item()))"
   ]
  },
  {
   "cell_type": "code",
   "execution_count": 10,
   "metadata": {},
   "outputs": [
    {
     "name": "stdout",
     "output_type": "stream",
     "text": [
      "Accuracy on the test set: 37.84%\n"
     ]
    }
   ],
   "source": [
    "# Convert the test data to PyTorch tensors\n",
    "X_test_tensor = torch.tensor(X_test.values, dtype=torch.float32)\n",
    "\n",
    "# Forward pass on the test data\n",
    "model.eval()\n",
    "with torch.no_grad():\n",
    "    outputs = model(X_test_tensor)\n",
    "    _, predicted = torch.max(outputs.data, 1)\n",
    "\n",
    "# Convert the predicted tensor to numpy array\n",
    "predicted = predicted.numpy()\n",
    "\n",
    "# Convert the test labels to numpy array\n",
    "y_test_array = y_test.values\n",
    "\n",
    "# Calculate accuracy\n",
    "accuracy = (predicted == y_test_array).sum().item() / len(y_test_array)\n",
    "\n",
    "print('Accuracy on the test set: {:.2f}%'.format(accuracy * 100))\n"
   ]
  }
 ],
 "metadata": {
  "kernelspec": {
   "display_name": "Python 3",
   "language": "python",
   "name": "python3"
  },
  "language_info": {
   "codemirror_mode": {
    "name": "ipython",
    "version": 3
   },
   "file_extension": ".py",
   "mimetype": "text/x-python",
   "name": "python",
   "nbconvert_exporter": "python",
   "pygments_lexer": "ipython3",
   "version": "3.11.4"
  },
  "orig_nbformat": 4
 },
 "nbformat": 4,
 "nbformat_minor": 2
}
