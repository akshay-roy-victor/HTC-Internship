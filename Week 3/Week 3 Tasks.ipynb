{
 "cells": [
  {
   "attachments": {},
   "cell_type": "markdown",
   "metadata": {},
   "source": [
    "# TASK 1\n",
    "\n",
    "Question 1:\n",
    "Base on your understanding, please differentiate between Artificial Intelligence, Machine Learning and Deep Learning.\n",
    "\n",
    "Answer 1:\n",
    "| Artificial Intelligence | Machine Learning | Deep Learning |\n",
    "| --- | --- | --- |\n",
    "| Ability of a machine to imitate intelligent human behavior | Application of AI that allows a system to automatically learn and improve from experience | Application of Machine Learning that uses complex algorithms and deep neural nets to train a model |\n",
    "\n",
    "\n",
    "\n",
    "Question 2:\n",
    "In the context of machine learning, what is train dataset, test dataset and validation dataset? For each type, what is the purpose?\n",
    "\n",
    "Answer 2:\n",
    "| TRAIN | VALIDATION | TEST |\n",
    "| --- | --- | --- |\n",
    "| The sample of data used to fit the model. | The sample of data used to provide an unbiased evaluation of a model fit on the training dataset while tuning model hyperparameters. The evaluation becomes more biased as skill on the validation dataset is incorporated into the model configuration. | The sample of data used to provide an unbiased evaluation of a final model fit on the training dataset.\n",
    "\n"
   ]
  },
  {
   "attachments": {},
   "cell_type": "markdown",
   "metadata": {},
   "source": [
    "# TASK 3\n",
    "\n",
    "Question 1:\n",
    "Based on task 1 and task 2, what is the different between an AI Engineer and data scientist.\n",
    "\n",
    "Answer 1:\n",
    "| AI Engineer | Data Scientist | \n",
    "| --- | --- |\n",
    "| AI Engineers are responsible for the development of AI Models used by companies. It involves them handling data preprocessing, model development, model training, and model evaluation. | Data Scientists on the other hand are mainly responsible for data collection, data preprocessing, data sorting, etc. As the name implies, they usually handle large quantities of data for analysis, while some data scientists do touch on the machine learning aspect they do not go that deep into it. |"
   ]
  },
  {
   "cell_type": "markdown",
   "metadata": {},
   "source": []
  }
 ],
 "metadata": {
  "language_info": {
   "name": "python"
  },
  "orig_nbformat": 4
 },
 "nbformat": 4,
 "nbformat_minor": 2
}
