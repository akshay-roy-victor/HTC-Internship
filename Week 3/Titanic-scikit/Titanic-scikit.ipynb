{
 "cells": [
  {
   "cell_type": "code",
   "execution_count": 1,
   "metadata": {},
   "outputs": [
    {
     "data": {
      "text/plain": [
       "Index(['PassengerId', 'Survived', 'Pclass', 'Name', 'Sex', 'Age', 'SibSp',\n",
       "       'Parch', 'Ticket', 'Fare', 'Cabin', 'Embarked'],\n",
       "      dtype='object')"
      ]
     },
     "execution_count": 1,
     "metadata": {},
     "output_type": "execute_result"
    }
   ],
   "source": [
    "import pandas as pd\n",
    "import os\n",
    "\n",
    "train_path = './train.csv'\n",
    "test_path = './test.csv'\n",
    "\n",
    "titanic_data = pd.read_csv(train_path)\n",
    "test_data = pd.read_csv(test_path)\n",
    "titanic_data.columns"
   ]
  },
  {
   "cell_type": "code",
   "execution_count": 2,
   "metadata": {},
   "outputs": [],
   "source": [
    "data_frame = pd.DataFrame(titanic_data)\n",
    "i=0\n",
    "for sex in data_frame.Sex:\n",
    "    if sex=='male':\n",
    "        data_frame.loc[i, ['Sex']]=[1]\n",
    "        i+=1\n",
    "    elif sex == 'female':\n",
    "        data_frame.loc[i, ['Sex']]=[2]\n",
    "        i+=1\n",
    "\n",
    "os.remove(train_path)\n",
    "data_frame.to_csv('./train.csv')\n",
    "titanic_data = titanic_data.dropna(axis=0)\n",
    "\n",
    "data_frame = pd.DataFrame(test_data)\n",
    "i=0\n",
    "for sex in data_frame.Sex:\n",
    "    if sex=='male':\n",
    "        data_frame.loc[i, ['Sex']]=[1]\n",
    "        i+=1\n",
    "    elif sex == 'female':\n",
    "        data_frame.loc[i, ['Sex']]=[2]\n",
    "        i+=1\n",
    "\n",
    "\n",
    "os.remove(test_path)\n",
    "data_frame.to_csv('./test.csv')\n",
    "test_data = test_data.dropna(axis=0)\n",
    "\n"
   ]
  },
  {
   "cell_type": "code",
   "execution_count": 3,
   "metadata": {},
   "outputs": [],
   "source": [
    "features = ['Pclass', 'Sex', 'Age', 'SibSp', 'Parch']\n",
    "\n",
    "test_X = test_data[features]\n",
    "train_y = titanic_data.Survived\n",
    "train_X = titanic_data[features]"
   ]
  },
  {
   "cell_type": "code",
   "execution_count": 4,
   "metadata": {},
   "outputs": [],
   "source": [
    "from sklearn.tree import DecisionTreeRegressor\n",
    "\n",
    "titanic_model = DecisionTreeRegressor(random_state=1)\n",
    "titanic_model.fit(train_X, train_y)\n",
    "\n",
    "predictions = titanic_model.predict(train_X)\n"
   ]
  },
  {
   "cell_type": "code",
   "execution_count": 5,
   "metadata": {},
   "outputs": [
    {
     "data": {
      "text/plain": [
       "0.023679417122040077"
      ]
     },
     "execution_count": 5,
     "metadata": {},
     "output_type": "execute_result"
    }
   ],
   "source": [
    "from sklearn.metrics import mean_absolute_error\n",
    "\n",
    "mean_absolute_error(predictions, train_y)\n",
    "#predictions"
   ]
  }
 ],
 "metadata": {
  "kernelspec": {
   "display_name": "Python 3",
   "language": "python",
   "name": "python3"
  },
  "language_info": {
   "codemirror_mode": {
    "name": "ipython",
    "version": 3
   },
   "file_extension": ".py",
   "mimetype": "text/x-python",
   "name": "python",
   "nbconvert_exporter": "python",
   "pygments_lexer": "ipython3",
   "version": "3.8.10"
  },
  "orig_nbformat": 4
 },
 "nbformat": 4,
 "nbformat_minor": 2
}
